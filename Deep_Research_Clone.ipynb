{
  "nbformat": 4,
  "nbformat_minor": 0,
  "metadata": {
    "colab": {
      "provenance": []
    },
    "kernelspec": {
      "name": "python3",
      "display_name": "Python 3"
    },
    "language_info": {
      "name": "python"
    }
  },
  "cells": [
    {
      "cell_type": "markdown",
      "source": [
        "# Setup"
      ],
      "metadata": {
        "id": "GtGl3My-TbM0"
      }
    },
    {
      "cell_type": "code",
      "execution_count": 102,
      "metadata": {
        "id": "FU0arA5LRVoA"
      },
      "outputs": [],
      "source": [
        "from openai import OpenAI\n",
        "import os, json, itertools\n",
        "from IPython.display import display, Markdown"
      ]
    },
    {
      "cell_type": "code",
      "source": [
        "from google.colab import userdata\n",
        "\n",
        "# Set OPENAI API KEY in the os\n",
        "os.environ['OPENAI_API_KEY'] = userdata.get('ai_agents_openai')"
      ],
      "metadata": {
        "id": "meHbzan8Tfxk"
      },
      "execution_count": 9,
      "outputs": []
    },
    {
      "cell_type": "code",
      "source": [
        "client = OpenAI()"
      ],
      "metadata": {
        "id": "Zshj9YRdT6Ue"
      },
      "execution_count": 10,
      "outputs": []
    },
    {
      "cell_type": "code",
      "source": [
        "# Define model inputs\n",
        "MODEL = \"gpt-4.1\"\n",
        "MODEL_MINI = \"gpt-4.1-mini\"\n",
        "TOOLS = [{\"type\": \"web_search\"}]\n",
        "INCLUDE_RESULTS = [\"web_search_call.results\"]  # return raw search hits"
      ],
      "metadata": {
        "id": "PTuEYNkdTdJ8"
      },
      "execution_count": 3,
      "outputs": []
    },
    {
      "cell_type": "code",
      "source": [
        "# ---------- 1. get initial topic ----------\n",
        "topic = input(\"Research topic: \").strip()"
      ],
      "metadata": {
        "colab": {
          "base_uri": "https://localhost:8080/"
        },
        "id": "_TycGQ9ITyLq",
        "outputId": "ed1bd8d8-ab44-40a9-8eee-d16a89c20565"
      },
      "execution_count": 4,
      "outputs": [
        {
          "name": "stdout",
          "output_type": "stream",
          "text": [
            "Research topic: Vibe coding\n"
          ]
        }
      ]
    },
    {
      "cell_type": "code",
      "source": [
        "# ---------- 2. ask five clarifying questions ----------\n",
        "developper_message = \"\"\"You are a deep researcher\"\"\"\n",
        "prompt = f\"\"\"\n",
        "Ask 5 numbered clarifying questions to about: {topic}.\n",
        "The goal of the questions is to understand the intended purpose of the research.\n",
        "Reply only with the questions.\"\"\"\n",
        "\n",
        "clarify = client.responses.create(\n",
        "    model=MODEL_MINI,\n",
        "    input = prompt,\n",
        "    instructions=developper_message,\n",
        "\n",
        ")"
      ],
      "metadata": {
        "id": "otbjG_XBT0E9"
      },
      "execution_count": 30,
      "outputs": []
    },
    {
      "cell_type": "code",
      "source": [
        "# get the questions from the output and split by new line\n",
        "questions = clarify.output[0].content[0].text.split(\"\\n\")\n",
        "questions"
      ],
      "metadata": {
        "colab": {
          "base_uri": "https://localhost:8080/"
        },
        "id": "-kWV_wENVX4V",
        "outputId": "72e157e4-2b6e-4fdd-b69f-f7f16626276c"
      },
      "execution_count": 31,
      "outputs": [
        {
          "output_type": "execute_result",
          "data": {
            "text/plain": [
              "['1. What specific aspects or features of \"Vibe coding\" are you aiming to explore or analyze in your research?  ',\n",
              " '2. Are you focusing on the technical implementation, user experience, or cultural impact of Vibe coding?  ',\n",
              " '3. What is the target audience or user group for the Vibe coding concept you are investigating?  ',\n",
              " '4. Are you interested in comparing Vibe coding to other coding paradigms or methodologies?  ',\n",
              " '5. What are the intended practical applications or outcomes you hope to achieve through this research on Vibe coding?']"
            ]
          },
          "metadata": {},
          "execution_count": 31
        }
      ]
    },
    {
      "cell_type": "code",
      "source": [
        "# Ask each of the questions to the user\n",
        "answers = []\n",
        "for question in questions:\n",
        "  # The built-in input() function can now be called correctly\n",
        "  answer = input(f\"{question}: \")\n",
        "  answers.append(answer)"
      ],
      "metadata": {
        "colab": {
          "base_uri": "https://localhost:8080/"
        },
        "id": "LzaD3JXSVt1P",
        "outputId": "621a7469-52ea-4552-8f06-0c0fba18bb55"
      },
      "execution_count": 36,
      "outputs": [
        {
          "name": "stdout",
          "output_type": "stream",
          "text": [
            "1. What specific aspects or features of \"Vibe coding\" are you aiming to explore or analyze in your research?  : how to vibe code and best practices\n",
            "2. Are you focusing on the technical implementation, user experience, or cultural impact of Vibe coding?  : technical implementation\n",
            "3. What is the target audience or user group for the Vibe coding concept you are investigating?  : non technical people\n",
            "4. Are you interested in comparing Vibe coding to other coding paradigms or methodologies?  : no, just how to start vibe coding\n",
            "5. What are the intended practical applications or outcomes you hope to achieve through this research on Vibe coding?: a guide to users\n"
          ]
        }
      ]
    },
    {
      "cell_type": "code",
      "source": [
        "# Define input for the model\n",
        "prompt_goals = f\"\"\"\n",
        "Using the user answers {answers}, write a short goal sentence for the research about {topic}.\n",
        "Output a JSON list of 5 web search queries that will reach it.\n",
        "Format: {{\\\"goal\\\": \\\"...\\\", \\\"queries\\\": [\\\"q1\\\", ...]}}\n",
        "\"\"\""
      ],
      "metadata": {
        "id": "UkLC90fmXQr7"
      },
      "execution_count": 40,
      "outputs": []
    },
    {
      "cell_type": "code",
      "source": [
        "# ---------- 3. set goals + create first 5 searches ----------\n",
        "goal_and_queries = client.responses.create(\n",
        "    model=MODEL,\n",
        "    previous_response_id=clarify.id,\n",
        "    input=prompt_goals,\n",
        "    instructions=\n",
        "        developper_message,\n",
        ")"
      ],
      "metadata": {
        "id": "wTX0cv6nXHzT"
      },
      "execution_count": 42,
      "outputs": []
    },
    {
      "cell_type": "code",
      "source": [
        "goal_and_queries.output[0].content[0].text"
      ],
      "metadata": {
        "colab": {
          "base_uri": "https://localhost:8080/",
          "height": 70
        },
        "id": "MLsgsVLHX1vw",
        "outputId": "aec0d007-224d-4bf2-bce8-7a440fae18ec"
      },
      "execution_count": 43,
      "outputs": [
        {
          "output_type": "execute_result",
          "data": {
            "text/plain": [
              "'{\\n  \"goal\": \"To develop a user-friendly guide on how to start vibe coding and share best technical implementation practices specifically for non-technical people.\",\\n  \"queries\": [\\n    \"how to start vibe coding for beginners\",\\n    \"vibe coding best practices for non technical users\",\\n    \"step by step technical guide to vibe coding\",\\n    \"vibe coding easy implementation for non programmers\",\\n    \"vibe coding tutorial for complete beginners\"\\n  ]\\n}'"
            ],
            "application/vnd.google.colaboratory.intrinsic+json": {
              "type": "string"
            }
          },
          "metadata": {},
          "execution_count": 43
        }
      ]
    },
    {
      "cell_type": "code",
      "source": [
        "plan = json.loads(goal_and_queries.output[0].content[0].text)\n",
        "plan"
      ],
      "metadata": {
        "colab": {
          "base_uri": "https://localhost:8080/"
        },
        "id": "5s3tgxY_YWiz",
        "outputId": "e136fbf9-4cb2-4341-cff1-e8263ebc809e"
      },
      "execution_count": 45,
      "outputs": [
        {
          "output_type": "execute_result",
          "data": {
            "text/plain": [
              "{'goal': 'To develop a user-friendly guide on how to start vibe coding and share best technical implementation practices specifically for non-technical people.',\n",
              " 'queries': ['how to start vibe coding for beginners',\n",
              "  'vibe coding best practices for non technical users',\n",
              "  'step by step technical guide to vibe coding',\n",
              "  'vibe coding easy implementation for non programmers',\n",
              "  'vibe coding tutorial for complete beginners']}"
            ]
          },
          "metadata": {},
          "execution_count": 45
        }
      ]
    },
    {
      "cell_type": "code",
      "source": [
        "goal = plan[\"goal\"]\n",
        "queries = plan[\"queries\"]"
      ],
      "metadata": {
        "id": "4s7unDgAYRlk"
      },
      "execution_count": 44,
      "outputs": []
    },
    {
      "cell_type": "code",
      "source": [
        "queries[0]"
      ],
      "metadata": {
        "colab": {
          "base_uri": "https://localhost:8080/",
          "height": 35
        },
        "id": "BJN2nLOIY0LG",
        "outputId": "9f3a8078-afb8-467e-d9b4-18105212a493"
      },
      "execution_count": 47,
      "outputs": [
        {
          "output_type": "execute_result",
          "data": {
            "text/plain": [
              "'how to start vibe coding for beginners'"
            ],
            "application/vnd.google.colaboratory.intrinsic+json": {
              "type": "string"
            }
          },
          "metadata": {},
          "execution_count": 47
        }
      ]
    },
    {
      "cell_type": "markdown",
      "source": [
        "# Web Search"
      ],
      "metadata": {
        "id": "oYnagmo1Yff2"
      }
    },
    {
      "cell_type": "code",
      "source": [
        "resp = client.responses.create(\n",
        "        model=MODEL,\n",
        "        input=f\"Search: {queries[0]}\",\n",
        "        tools=TOOLS,\n",
        "        include=INCLUDE_RESULTS,\n",
        "    )"
      ],
      "metadata": {
        "id": "0qgNSvqCZHhH"
      },
      "execution_count": 50,
      "outputs": []
    },
    {
      "cell_type": "code",
      "source": [
        "resp.output[0].id"
      ],
      "metadata": {
        "colab": {
          "base_uri": "https://localhost:8080/",
          "height": 35
        },
        "id": "LWyURoEib6Td",
        "outputId": "4ca8a5f8-9e23-42d0-8f26-771a0d58abeb"
      },
      "execution_count": 69,
      "outputs": [
        {
          "output_type": "execute_result",
          "data": {
            "text/plain": [
              "'ws_68270340d9dc8198b0288470dcd5b48a047101d773d541f7'"
            ],
            "application/vnd.google.colaboratory.intrinsic+json": {
              "type": "string"
            }
          },
          "metadata": {},
          "execution_count": 69
        }
      ]
    },
    {
      "cell_type": "code",
      "source": [
        "resp.output[1].content[0].annotations"
      ],
      "metadata": {
        "colab": {
          "base_uri": "https://localhost:8080/"
        },
        "id": "jGw3TB9QZOgy",
        "outputId": "7b578764-96a1-4888-a694-32bb74381233"
      },
      "execution_count": 86,
      "outputs": [
        {
          "output_type": "execute_result",
          "data": {
            "text/plain": [
              "[AnnotationURLCitation(end_index=558, start_index=477, title='Vibe coding', type='url_citation', url='https://en.wikipedia.org/wiki/Vibe_coding?utm_source=openai'),\n",
              " AnnotationURLCitation(end_index=957, start_index=855, title='Vibe Coding Explained: A Creative Approach to Programming | Medium', type='url_citation', url='https://medium.com/%40swengcrunch/vibe-coding-explained-26973e7797e0?utm_source=openai'),\n",
              " AnnotationURLCitation(end_index=1477, start_index=1353, title='The Best Guide to Vibe Coding: Create Software Without Coding Skills', type='url_citation', url='https://www.teapowered.pro/insights/guides/vibe-coding-writing-code-for-non-devs-risks?utm_source=openai'),\n",
              " AnnotationURLCitation(end_index=1732, start_index=1608, title='The Best Guide to Vibe Coding: Create Software Without Coding Skills', type='url_citation', url='https://www.teapowered.pro/insights/guides/vibe-coding-writing-code-for-non-devs-risks?utm_source=openai'),\n",
              " AnnotationURLCitation(end_index=1954, start_index=1853, title='Vibe Coding for Non Technical Users', type='url_citation', url='https://www.architjn.com/blog/vibe-coding-for-non-technical-users?utm_source=openai'),\n",
              " AnnotationURLCitation(end_index=2409, start_index=2308, title='Vibe Coding for Non Technical Users', type='url_citation', url='https://www.architjn.com/blog/vibe-coding-for-non-technical-users?utm_source=openai'),\n",
              " AnnotationURLCitation(end_index=2773, start_index=2692, title='Vibe coding', type='url_citation', url='https://en.wikipedia.org/wiki/Vibe_coding?utm_source=openai'),\n",
              " AnnotationURLCitation(end_index=3171, start_index=3066, title='Vibe Coding: Programming by Prompt | Techiediaries', type='url_citation', url='https://www.techiediaries.com/vibe-coding-programming-by-prompt/?utm_source=openai'),\n",
              " AnnotationURLCitation(end_index=3482, start_index=3363, title='🎁 The Vibe Coding Starter Kit (Free Edition)', type='url_citation', url='https://vibecoding.gumroad.com/l/the-vibe-coding-starter-kit-free-edition?utm_source=openai'),\n",
              " AnnotationURLCitation(end_index=3750, start_index=3673, title='Vibe Coding for Beginners | Udemy', type='url_citation', url='https://www.udemy.com/course/bestvibecoding/?utm_source=openai'),\n",
              " AnnotationURLCitation(end_index=4148, start_index=4067, title='Vibe coding', type='url_citation', url='https://en.wikipedia.org/wiki/Vibe_coding?utm_source=openai')]"
            ]
          },
          "metadata": {},
          "execution_count": 86
        }
      ]
    },
    {
      "cell_type": "code",
      "source": [
        "def run_search(q):\n",
        "    resp = client.responses.create(\n",
        "        model=MODEL,\n",
        "        input=f\"Search: {q}\",\n",
        "        tools=TOOLS,\n",
        "        include=INCLUDE_RESULTS,\n",
        "    )\n",
        "    return {\"query\": q,\n",
        "            \"resp_id\": resp.output[0].id,\n",
        "            \"research_output\": resp.output[1].content[0].text}"
      ],
      "metadata": {
        "id": "jwYt90ZXYge9"
      },
      "execution_count": 87,
      "outputs": []
    },
    {
      "cell_type": "code",
      "source": [
        "run_search(queries[0])"
      ],
      "metadata": {
        "colab": {
          "base_uri": "https://localhost:8080/"
        },
        "collapsed": true,
        "id": "eH-wbaKMY8Nf",
        "outputId": "79e81f50-ee4c-4fb7-bd0e-433ede4179a6"
      },
      "execution_count": 82,
      "outputs": [
        {
          "output_type": "execute_result",
          "data": {
            "text/plain": [
              "{'query': 'how to start vibe coding for beginners',\n",
              " 'resp_id': 'ws_682707350c8081988f89fe0cc53947d80ecfe65425416f0a',\n",
              " 'annotations': [AnnotationURLCitation(end_index=538, start_index=457, title='Vibe coding', type='url_citation', url='https://en.wikipedia.org/wiki/Vibe_coding?utm_source=openai'),\n",
              "  AnnotationURLCitation(end_index=1166, start_index=1062, title=\"Getting Started with Vibe Coding: A Beginner's Guide to Full-Stack App Builders\", type='url_citation', url='https://securevibecoding.io/getting-started-with-vibe-coding/?utm_source=openai'),\n",
              "  AnnotationURLCitation(end_index=1583, start_index=1466, title='The beginner’s guide to vibe coding | by Nicolle Weeks | May, 2025 | Medium', type='url_citation', url='https://medium.com/%40nicolle.weeks/the-beginners-guide-to-vibe-coding-b5f1eaf0f3e5?utm_source=openai'),\n",
              "  AnnotationURLCitation(end_index=1819, start_index=1695, title='The Best Guide to Vibe Coding: Create Software Without Coding Skills', type='url_citation', url='https://www.teapowered.pro/insights/guides/vibe-coding-writing-code-for-non-devs-risks?utm_source=openai'),\n",
              "  AnnotationURLCitation(end_index=2104, start_index=1980, title='The Best Guide to Vibe Coding: Create Software Without Coding Skills', type='url_citation', url='https://www.teapowered.pro/insights/guides/vibe-coding-writing-code-for-non-devs-risks?utm_source=openai'),\n",
              "  AnnotationURLCitation(end_index=2696, start_index=2595, title='Vibe Coding for Non Technical Users', type='url_citation', url='https://www.architjn.com/blog/vibe-coding-for-non-technical-users?utm_source=openai'),\n",
              "  AnnotationURLCitation(end_index=3166, start_index=3085, title='Vibe coding', type='url_citation', url='https://en.wikipedia.org/wiki/Vibe_coding?utm_source=openai'),\n",
              "  AnnotationURLCitation(end_index=3702, start_index=3597, title='Vibe Coding: Programming by Prompt | Techiediaries', type='url_citation', url='https://www.techiediaries.com/vibe-coding-programming-by-prompt/?utm_source=openai'),\n",
              "  AnnotationURLCitation(end_index=4003, start_index=3884, title='🎁 The Vibe Coding Starter Kit (Free Edition)', type='url_citation', url='https://vibecoding.gumroad.com/l/the-vibe-coding-starter-kit-free-edition?utm_source=openai'),\n",
              "  AnnotationURLCitation(end_index=4204, start_index=4127, title='Vibe Coding for Beginners | Udemy', type='url_citation', url='https://www.udemy.com/course/bestvibecoding/?utm_source=openai')],\n",
              " 'research_output': 'Vibe coding is an innovative approach to software development that leverages artificial intelligence (AI) to transform natural language descriptions into functional code. This method enables individuals without traditional programming experience to create applications by simply articulating their ideas. As AI researcher Andrej Karpathy noted, \"It\\'s not really coding—I just see things, say things, run things, and copy-paste things, and it mostly works.\" ([en.wikipedia.org](https://en.wikipedia.org/wiki/Vibe_coding?utm_source=openai))\\n\\n**Getting Started with Vibe Coding: A Step-by-Step Guide**\\n\\n1. **Define Your Project Idea**\\n\\n   Begin by clearly outlining what you want your application to achieve. Consider the following:\\n\\n   - **Purpose**: What problem does your app solve?\\n   - **Core Features**: What functionalities are essential?\\n   - **User Flow**: How will users interact with your app?\\n   - **Data Requirements**: What information will your app handle?\\n\\n   Having a well-defined vision will guide the AI in generating relevant and accurate code. ([securevibecoding.io](https://securevibecoding.io/getting-started-with-vibe-coding/?utm_source=openai))\\n\\n2. **Select an AI-Powered Development Platform**\\n\\n   Choose a platform that aligns with your project needs and personal preferences. Here are some beginner-friendly options:\\n\\n   - **Lovable.dev**: Offers an intuitive interface for non-coders, providing instant visual feedback and easy deployment. ([medium.com](https://medium.com/%40nicolle.weeks/the-beginners-guide-to-vibe-coding-b5f1eaf0f3e5?utm_source=openai))\\n   - **Replit**: A collaborative online coding environment with AI assistance, suitable for rapid prototyping. ([teapowered.pro](https://www.teapowered.pro/insights/guides/vibe-coding-writing-code-for-non-devs-risks?utm_source=openai))\\n   - **Cursor**: An AI-powered code editor that integrates seamlessly with existing workflows, offering features like code generation and debugging assistance. ([teapowered.pro](https://www.teapowered.pro/insights/guides/vibe-coding-writing-code-for-non-devs-risks?utm_source=openai))\\n\\n3. **Craft Effective Prompts**\\n\\n   The quality of the AI-generated code depends on how well you describe your requirements. To enhance your prompts:\\n\\n   - **Be Specific**: Clearly state the desired features and behaviors.\\n   - **Break Down Tasks**: Divide complex functionalities into smaller, manageable steps.\\n   - **Iterate and Refine**: Start with a basic prompt and adjust based on the AI\\'s output.\\n   - **Provide Examples**: Include sample inputs or desired outputs to guide the AI. ([architjn.com](https://www.architjn.com/blog/vibe-coding-for-non-technical-users?utm_source=openai))\\n\\n4. **Review and Test the Generated Code**\\n\\n   While AI can produce functional code, it\\'s crucial to:\\n\\n   - **Understand the Code**: Familiarize yourself with the generated code to ensure it meets your requirements.\\n   - **Test Thoroughly**: Run tests to identify and fix any bugs or issues.\\n   - **Ensure Security**: Be aware of potential vulnerabilities and address them appropriately. ([en.wikipedia.org](https://en.wikipedia.org/wiki/Vibe_coding?utm_source=openai))\\n\\n5. **Engage with the Vibe Coding Community**\\n\\n   Joining communities can provide support, inspiration, and resources:\\n\\n   - **Forums and Discussion Groups**: Participate in online forums to share experiences and seek advice.\\n   - **Collaborative Projects**: Engage in group projects to learn from others and improve your skills.\\n   - **Continuous Learning**: Stay updated with the latest tools and best practices in vibe coding. ([techiediaries.com](https://www.techiediaries.com/vibe-coding-programming-by-prompt/?utm_source=openai))\\n\\n**Additional Resources**\\n\\n- **Vibe Coding Starter Kit**: A comprehensive guide with over 1,450 beginner-friendly terms to help you communicate effectively in software development. ([vibecoding.gumroad.com](https://vibecoding.gumroad.com/l/the-vibe-coding-starter-kit-free-edition?utm_source=openai))\\n- **Online Courses**: Consider enrolling in courses like \"Vibe Coding for Beginners\" on Udemy to gain structured learning. ([udemy.com](https://www.udemy.com/course/bestvibecoding/?utm_source=openai))\\n\\nBy following these steps and utilizing the available resources, you can embark on your vibe coding journey and start creating applications without prior coding experience. '}"
            ]
          },
          "metadata": {},
          "execution_count": 82
        }
      ]
    },
    {
      "cell_type": "code",
      "source": [
        "def evaluate(collected):\n",
        "    # Ask the model if we’re done. Return bool.\n",
        "    review = client.responses.create(\n",
        "        model=MODEL,\n",
        "        input=[\n",
        "            {\"role\": \"developer\", \"content\": f\"Research goal: {goal}\"},\n",
        "            {\"role\": \"assistant\", \"content\": json.dumps(collected)},\n",
        "            {\"role\": \"user\", \"content\":\n",
        "                \"Does this information fully satisfy the goal? \"\n",
        "                \"Answer Yes or No only.\"}\n",
        "        ],\n",
        "        instructions=developper_message,\n",
        "    )\n",
        "    return \"yes\" in review.output[0].content[0].text.lower()"
      ],
      "metadata": {
        "id": "WD5Ptgi7dalQ"
      },
      "execution_count": 88,
      "outputs": []
    },
    {
      "cell_type": "code",
      "source": [
        "collected = []\n",
        "for _ in itertools.count():                      # open-ended loop\n",
        "    for q in queries:\n",
        "        collected.append(run_search(q))\n",
        "    if evaluate(collected):\n",
        "        break\n",
        "\n",
        "    # ask for 5 more searches\n",
        "    more = client.responses.create(\n",
        "        model=MODEL,\n",
        "        input=[\n",
        "            {\"role\": \"assistant\", \"content\": f\"Current data: {json.dumps(collected)}\"},\n",
        "            {\"role\": \"user\",\n",
        "             \"content\": (\"We still haven’t met the goal. Give 5 more, new, \"\n",
        "                         \"high-value web search queries only as a JSON list.\")}\n",
        "        ],\n",
        "        previous_response_id=goal_and_queries.id\n",
        "    )\n",
        "    queries = json.loads(more.output[0].content[0].text)"
      ],
      "metadata": {
        "id": "0S-7v4A0dvOz"
      },
      "execution_count": 90,
      "outputs": []
    },
    {
      "cell_type": "code",
      "source": [
        "# ---------- 5. final synthesis with citations ----------\n",
        "final = client.responses.create(\n",
        "    model=MODEL,\n",
        "    input=[\n",
        "        {\"role\": \"developer\", \"content\": (f\"Write a complete answer that meets the goal: {goal}. \"\n",
        "                     \"Cite sources inline using [n] and append a reference \"\n",
        "                     \"list mapping [n] to url.\")},\n",
        "        {\"role\": \"assistant\", \"content\": json.dumps(collected)},\n",
        "    ],\n",
        "    instructions=developper_message,\n",
        ")\n",
        "print(\"\\n=== FINAL REPORT ===\\n\")\n",
        "display(Markdown(final.output[0].content[0].text))"
      ],
      "metadata": {
        "colab": {
          "base_uri": "https://localhost:8080/",
          "height": 1000
        },
        "id": "KdMyzHf5rNDx",
        "outputId": "6eaf4514-0044-47a0-83d3-3db3e663c357"
      },
      "execution_count": 103,
      "outputs": [
        {
          "output_type": "stream",
          "name": "stdout",
          "text": [
            "\n",
            "=== FINAL REPORT ===\n",
            "\n"
          ]
        },
        {
          "output_type": "display_data",
          "data": {
            "text/plain": [
              "<IPython.core.display.Markdown object>"
            ],
            "text/markdown": "## User-Friendly Guide to Starting Vibe Coding & Best Implementation Practices for Non-Technical People\n\nVibe coding is an emerging way to build apps using natural language prompts and AI code assistants—making it possible for non-technical users to bring their software ideas to life. Rather than writing code yourself, you describe what you want the program to do, and AI helps turn your \"vibe\" into working software [1][2].\n\nHere’s a step-by-step guide for getting started and key best practices for success:\n\n---\n\n### 1. Understand What Vibe Coding Is  \nVibe coding involves collaborating with an AI (like GitHub Copilot, Replit Ghostwriter, or the Cursor editor) by explaining your app’s behavior in English. The AI generates and improves the code based on your ongoing feedback until your idea comes to life [1][2].\n\n---\n\n### 2. Set Up Your Workspace  \n- **Pick a Platform**: Use beginner-friendly, AI-powered tools such as:\n  - **Replit** (cloud-based, easy for beginners) [3][4]\n  - **Cursor** (AI-enhanced code editor) [1][4]\n  - **GitHub Copilot** (works inside code editors) [1]\n  - **Lovable.dev** (no-code/low-code, design-focused) [4]\n- **Create a Free Account** (most tools offer a free plan).\n- **Find a Distraction-Free Environment** to help you focus.\n\n---\n\n### 3. Shape Your Idea Clearly  \n- **Describe Your App**: Write down in plain language what problem your app solves, its main features, and what a user does from start to finish [5].  \n  *Example: “I want a simple app for listing groceries, with the ability to add, check off, and delete items.”*\n- **List Key Functions**: Break big ideas into bite-sized tasks (e.g., “Add item,” “Check off item,” “Show all items”).\n\n---\n\n### 4. Start \"Prompting\" the AI  \n- **Open Your Chosen Platform** and create a new project.\n- **Type a Prompt** as if you’re talking to a helpful developer:\n  *“Make a web app where the user can input a grocery item and see a list. Let them mark items as bought or remove them.”*\n- **Be Specific**: The more details you give, the better the result [5].\n\n---\n\n### 5. Practice Best Prompting Techniques  \n**Best Practices:**\n- **Be Clear & Detailed:** Specify the goal, platform (web, mobile), and any must-have features [2][5].\n- **Break Tasks Down:** Build step by step—first the layout, then the “add item” feature, then “mark as completed,” and so on [2][6].\n- **Iterate Frequently:** Review what the AI generates, tell it what’s right/wrong, and ask for changes (e.g., “Please add a delete button for each item”) [7].\n- **Use Examples:** If stuck, give sample inputs/outputs (e.g., “User enters ‘milk’; list shows ‘milk’”).\n\n---\n\n### 6. Build and Test in Small Steps  \n- **Test After Each Step:** Try your app after each change. If something doesn’t work, ask the AI: “Why isn’t the delete button working?” or “Fix the error when adding an empty item.”\n- **Don’t Fear Mistakes:** The process is iterative, and errors are learning moments.\n- **Save Versions:** Many tools let you undo or save milestones—use them!\n\n---\n\n### 7. Share, Document & Learn  \n- **Document as You Go:** Keep a simple description of what you asked and changes made. This makes it easier to backtrack or get help.\n- **Engage with the Community:** Forums or Discord channels for your tool are great for advice and inspiration [2][7].\n- **Deploy or Share:** Platforms like Replit let you launch your app with a custom link [6].\n\n---\n\n### 8. Key Tips to Succeed  \n- **Start Small:** Simple projects like to-do lists, timers, or calculators are great practice [4].\n- **Refine Your Prompts**: As you gain experience, you’ll get better at asking the AI for exactly what you want.\n- **Seek Feedback:** Ask friends to try your app and suggest changes—describe those suggestions to the AI.\n\n---\n\n## References\n\n[1] https://en.wikipedia.org/wiki/Vibe_coding  \n[2] https://zencoder.ai/blog/vibe-coding-best-practices  \n[3] https://docs.replit.com/tutorials/vibe-coding-101  \n[4] https://www.datacamp.com/blog/vibe-coding  \n[5] https://www.architjn.com/blog/vibe-coding-for-non-technical-users  \n[6] https://securevibecoding.io/getting-started-with-vibe-coding  \n[7] https://www.techiediaries.com/vibe-coding-programming-by-prompt/\n\n---\n\nBy following this simple, hands-on approach and using clear communication with the AI, non-technical people can confidently start building their own apps and learn best practices for effective and enjoyable vibe coding."
          },
          "metadata": {}
        }
      ]
    },
    {
      "cell_type": "code",
      "source": [
        "!pip freeze"
      ],
      "metadata": {
        "colab": {
          "base_uri": "https://localhost:8080/"
        },
        "collapsed": true,
        "id": "VKRcVER1tiE3",
        "outputId": "dabdcf3d-8542-479a-ed7f-d35bc1fceb04"
      },
      "execution_count": 104,
      "outputs": [
        {
          "output_type": "stream",
          "name": "stdout",
          "text": [
            "absl-py==1.4.0\n",
            "accelerate==1.6.0\n",
            "aiohappyeyeballs==2.6.1\n",
            "aiohttp==3.11.15\n",
            "aiosignal==1.3.2\n",
            "alabaster==1.0.0\n",
            "albucore==0.0.24\n",
            "albumentations==2.0.6\n",
            "ale-py==0.11.0\n",
            "altair==5.5.0\n",
            "annotated-types==0.7.0\n",
            "antlr4-python3-runtime==4.9.3\n",
            "anyio==4.9.0\n",
            "argon2-cffi==23.1.0\n",
            "argon2-cffi-bindings==21.2.0\n",
            "array_record==0.7.2\n",
            "arviz==0.21.0\n",
            "astropy==7.0.2\n",
            "astropy-iers-data==0.2025.5.12.0.38.29\n",
            "astunparse==1.6.3\n",
            "atpublic==5.1\n",
            "attrs==25.3.0\n",
            "audioread==3.0.1\n",
            "autograd==1.8.0\n",
            "babel==2.17.0\n",
            "backcall==0.2.0\n",
            "backports.tarfile==1.2.0\n",
            "beautifulsoup4==4.13.4\n",
            "betterproto==2.0.0b6\n",
            "bigframes==2.4.0\n",
            "bigquery-magics==0.9.0\n",
            "bleach==6.2.0\n",
            "blinker==1.9.0\n",
            "blis==1.3.0\n",
            "blobfile==3.0.0\n",
            "blosc2==3.3.2\n",
            "bokeh==3.7.3\n",
            "Bottleneck==1.4.2\n",
            "bqplot==0.12.44\n",
            "branca==0.8.1\n",
            "build==1.2.2.post1\n",
            "CacheControl==0.14.3\n",
            "cachetools==5.5.2\n",
            "catalogue==2.0.10\n",
            "certifi==2025.4.26\n",
            "cffi==1.17.1\n",
            "chardet==5.2.0\n",
            "charset-normalizer==3.4.2\n",
            "chex==0.1.89\n",
            "clarabel==0.10.0\n",
            "click==8.2.0\n",
            "cloudpathlib==0.21.0\n",
            "cloudpickle==3.1.1\n",
            "cmake==3.31.6\n",
            "cmdstanpy==1.2.5\n",
            "colorcet==3.1.0\n",
            "colorlover==0.3.0\n",
            "colour==0.1.5\n",
            "community==1.0.0b1\n",
            "confection==0.1.5\n",
            "cons==0.4.6\n",
            "contourpy==1.3.2\n",
            "cramjam==2.10.0\n",
            "cryptography==43.0.3\n",
            "cuda-python==12.6.2.post1\n",
            "cudf-cu12 @ https://pypi.nvidia.com/cudf-cu12/cudf_cu12-25.2.1-cp311-cp311-manylinux_2_24_x86_64.manylinux_2_28_x86_64.whl\n",
            "cudf-polars-cu12==25.2.2\n",
            "cufflinks==0.17.3\n",
            "cuml-cu12==25.2.1\n",
            "cupy-cuda12x==13.3.0\n",
            "curl_cffi==0.10.0\n",
            "cuvs-cu12==25.2.1\n",
            "cvxopt==1.3.2\n",
            "cvxpy==1.6.5\n",
            "cycler==0.12.1\n",
            "cyipopt==1.5.0\n",
            "cymem==2.0.11\n",
            "Cython==3.0.12\n",
            "dask==2024.12.1\n",
            "dask-cuda==25.2.0\n",
            "dask-cudf-cu12==25.2.2\n",
            "dask-expr==1.1.21\n",
            "dataproc-spark-connect==0.7.3\n",
            "datascience==0.17.6\n",
            "datasets==2.14.4\n",
            "db-dtypes==1.4.3\n",
            "dbus-python==1.2.18\n",
            "debugpy==1.8.0\n",
            "decorator==4.4.2\n",
            "defusedxml==0.7.1\n",
            "diffusers==0.33.1\n",
            "dill==0.3.7\n",
            "distributed==2024.12.1\n",
            "distributed-ucxx-cu12==0.42.0\n",
            "distro==1.9.0\n",
            "dlib==19.24.6\n",
            "dm-tree==0.1.9\n",
            "docker-pycreds==0.4.0\n",
            "docstring_parser==0.16\n",
            "docutils==0.21.2\n",
            "dopamine_rl==4.1.2\n",
            "duckdb==1.2.2\n",
            "earthengine-api==1.5.15\n",
            "easydict==1.13\n",
            "editdistance==0.8.1\n",
            "eerepr==0.1.2\n",
            "einops==0.8.1\n",
            "en_core_web_sm @ https://github.com/explosion/spacy-models/releases/download/en_core_web_sm-3.8.0/en_core_web_sm-3.8.0-py3-none-any.whl#sha256=1932429db727d4bff3deed6b34cfc05df17794f4a52eeb26cf8928f7c1a0fb85\n",
            "entrypoints==0.4\n",
            "et_xmlfile==2.0.0\n",
            "etils==1.12.2\n",
            "etuples==0.3.9\n",
            "Farama-Notifications==0.0.4\n",
            "fastai==2.7.19\n",
            "fastcore==1.7.29\n",
            "fastdownload==0.0.7\n",
            "fastjsonschema==2.21.1\n",
            "fastprogress==1.0.3\n",
            "fastrlock==0.8.3\n",
            "filelock==3.18.0\n",
            "firebase-admin==6.8.0\n",
            "Flask==3.1.1\n",
            "flatbuffers==25.2.10\n",
            "flax==0.10.6\n",
            "folium==0.19.5\n",
            "fonttools==4.58.0\n",
            "frozendict==2.4.6\n",
            "frozenlist==1.6.0\n",
            "fsspec==2025.3.2\n",
            "future==1.0.0\n",
            "gast==0.6.0\n",
            "gcsfs==2025.3.2\n",
            "GDAL==3.6.4\n",
            "gdown==5.2.0\n",
            "geemap==0.35.3\n",
            "geocoder==1.38.1\n",
            "geographiclib==2.0\n",
            "geopandas==1.0.1\n",
            "geopy==2.4.1\n",
            "gin-config==0.5.0\n",
            "gitdb==4.0.12\n",
            "GitPython==3.1.44\n",
            "glob2==0.7\n",
            "google==2.0.3\n",
            "google-ai-generativelanguage==0.6.15\n",
            "google-api-core==2.24.2\n",
            "google-api-python-client==2.169.0\n",
            "google-auth==2.38.0\n",
            "google-auth-httplib2==0.2.0\n",
            "google-auth-oauthlib==1.2.2\n",
            "google-cloud-aiplatform==1.92.0\n",
            "google-cloud-bigquery==3.32.0\n",
            "google-cloud-bigquery-connection==1.18.2\n",
            "google-cloud-bigquery-storage==2.31.0\n",
            "google-cloud-core==2.4.3\n",
            "google-cloud-dataproc==5.18.1\n",
            "google-cloud-datastore==2.21.0\n",
            "google-cloud-firestore==2.20.2\n",
            "google-cloud-functions==1.20.3\n",
            "google-cloud-iam==2.19.0\n",
            "google-cloud-language==2.17.1\n",
            "google-cloud-resource-manager==1.14.2\n",
            "google-cloud-spanner==3.54.0\n",
            "google-cloud-storage==2.19.0\n",
            "google-cloud-translate==3.20.2\n",
            "google-colab @ file:///colabtools/dist/google_colab-1.0.0.tar.gz\n",
            "google-crc32c==1.7.1\n",
            "google-genai==1.15.0\n",
            "google-generativeai==0.8.5\n",
            "google-pasta==0.2.0\n",
            "google-resumable-media==2.7.2\n",
            "googleapis-common-protos==1.70.0\n",
            "googledrivedownloader==1.1.0\n",
            "graphviz==0.20.3\n",
            "greenlet==3.2.2\n",
            "grpc-google-iam-v1==0.14.2\n",
            "grpc-interceptor==0.15.4\n",
            "grpcio==1.71.0\n",
            "grpcio-status==1.71.0\n",
            "grpclib==0.4.8\n",
            "gspread==6.2.0\n",
            "gspread-dataframe==4.0.0\n",
            "gym==0.25.2\n",
            "gym-notices==0.0.8\n",
            "gymnasium==1.1.1\n",
            "h11==0.16.0\n",
            "h2==4.2.0\n",
            "h5netcdf==1.6.1\n",
            "h5py==3.13.0\n",
            "hdbscan==0.8.40\n",
            "hf_transfer==0.1.9\n",
            "highspy==1.10.0\n",
            "holidays==0.72\n",
            "holoviews==1.20.2\n",
            "hpack==4.1.0\n",
            "html5lib==1.1\n",
            "httpcore==1.0.9\n",
            "httpimport==1.4.1\n",
            "httplib2==0.22.0\n",
            "httpx==0.28.1\n",
            "huggingface-hub==0.31.2\n",
            "humanize==4.12.3\n",
            "hyperframe==6.1.0\n",
            "hyperopt==0.2.7\n",
            "ibis-framework==9.5.0\n",
            "idna==3.10\n",
            "imageio==2.37.0\n",
            "imageio-ffmpeg==0.6.0\n",
            "imagesize==1.4.1\n",
            "imbalanced-learn==0.13.0\n",
            "immutabledict==4.2.1\n",
            "importlib_metadata==8.7.0\n",
            "importlib_resources==6.5.2\n",
            "imutils==0.5.4\n",
            "inflect==7.5.0\n",
            "iniconfig==2.1.0\n",
            "intel-cmplr-lib-ur==2025.1.1\n",
            "intel-openmp==2025.1.1\n",
            "ipyevents==2.0.2\n",
            "ipyfilechooser==0.6.0\n",
            "ipykernel==6.17.1\n",
            "ipyleaflet==0.19.2\n",
            "ipyparallel==8.8.0\n",
            "ipython==7.34.0\n",
            "ipython-genutils==0.2.0\n",
            "ipython-sql==0.5.0\n",
            "ipytree==0.2.2\n",
            "ipywidgets==7.7.1\n",
            "itsdangerous==2.2.0\n",
            "jaraco.classes==3.4.0\n",
            "jaraco.context==6.0.1\n",
            "jaraco.functools==4.1.0\n",
            "jax==0.5.2\n",
            "jax-cuda12-pjrt==0.5.1\n",
            "jax-cuda12-plugin==0.5.1\n",
            "jaxlib==0.5.1\n",
            "jeepney==0.9.0\n",
            "jieba==0.42.1\n",
            "Jinja2==3.1.6\n",
            "jiter==0.9.0\n",
            "joblib==1.5.0\n",
            "jsonpatch==1.33\n",
            "jsonpickle==4.0.5\n",
            "jsonpointer==3.0.0\n",
            "jsonschema==4.23.0\n",
            "jsonschema-specifications==2025.4.1\n",
            "jupyter-client==6.1.12\n",
            "jupyter-console==6.1.0\n",
            "jupyter-leaflet==0.19.2\n",
            "jupyter-server==1.16.0\n",
            "jupyter_core==5.7.2\n",
            "jupyter_kernel_gateway @ git+https://github.com/googlecolab/kernel_gateway@b134e9945df25c2dcb98ade9129399be10788671\n",
            "jupyterlab_pygments==0.3.0\n",
            "jupyterlab_widgets==3.0.15\n",
            "kaggle==1.7.4.5\n",
            "kagglehub==0.3.12\n",
            "keras==3.8.0\n",
            "keras-hub==0.18.1\n",
            "keras-nlp==0.18.1\n",
            "keyring==25.6.0\n",
            "keyrings.google-artifactregistry-auth==1.1.2\n",
            "kiwisolver==1.4.8\n",
            "langchain==0.3.25\n",
            "langchain-core==0.3.59\n",
            "langchain-text-splitters==0.3.8\n",
            "langcodes==3.5.0\n",
            "langsmith==0.3.42\n",
            "language_data==1.3.0\n",
            "launchpadlib==1.10.16\n",
            "lazr.restfulclient==0.14.4\n",
            "lazr.uri==1.0.6\n",
            "lazy_loader==0.4\n",
            "libclang==18.1.1\n",
            "libcudf-cu12 @ https://pypi.nvidia.com/libcudf-cu12/libcudf_cu12-25.2.1-py3-none-manylinux_2_28_x86_64.whl\n",
            "libcugraph-cu12==25.2.0\n",
            "libcuml-cu12==25.2.1\n",
            "libcuvs-cu12==25.2.1\n",
            "libkvikio-cu12==25.2.1\n",
            "libpysal==4.13.0\n",
            "libraft-cu12==25.2.0\n",
            "librosa==0.11.0\n",
            "libucx-cu12==1.18.1\n",
            "libucxx-cu12==0.42.0\n",
            "lightgbm @ file:///tmp/lightgbm/LightGBM/dist/lightgbm-4.5.0-py3-none-linux_x86_64.whl\n",
            "linkify-it-py==2.0.3\n",
            "llvmlite==0.43.0\n",
            "locket==1.0.0\n",
            "logical-unification==0.4.6\n",
            "lxml==5.4.0\n",
            "Mako==1.1.3\n",
            "marisa-trie==1.2.1\n",
            "Markdown==3.8\n",
            "markdown-it-py==3.0.0\n",
            "MarkupSafe==3.0.2\n",
            "matplotlib==3.10.0\n",
            "matplotlib-inline==0.1.7\n",
            "matplotlib-venn==1.1.2\n",
            "mdit-py-plugins==0.4.2\n",
            "mdurl==0.1.2\n",
            "miniKanren==1.0.3\n",
            "missingno==0.5.2\n",
            "mistune==3.1.3\n",
            "mizani==0.13.5\n",
            "mkl==2025.0.1\n",
            "ml-dtypes==0.4.1\n",
            "mlxtend==0.23.4\n",
            "more-itertools==10.7.0\n",
            "moviepy==1.0.3\n",
            "mpmath==1.3.0\n",
            "msgpack==1.1.0\n",
            "multidict==6.4.3\n",
            "multipledispatch==1.0.0\n",
            "multiprocess==0.70.15\n",
            "multitasking==0.0.11\n",
            "murmurhash==1.0.12\n",
            "music21==9.3.0\n",
            "namex==0.0.9\n",
            "narwhals==1.39.0\n",
            "natsort==8.4.0\n",
            "nbclassic==1.3.1\n",
            "nbclient==0.10.2\n",
            "nbconvert==7.16.6\n",
            "nbformat==5.10.4\n",
            "ndindex==1.9.2\n",
            "nest-asyncio==1.6.0\n",
            "networkx==3.4.2\n",
            "nibabel==5.3.2\n",
            "nltk==3.9.1\n",
            "notebook==6.5.7\n",
            "notebook_shim==0.2.4\n",
            "numba==0.60.0\n",
            "numba-cuda==0.2.0\n",
            "numexpr==2.10.2\n",
            "numpy==2.0.2\n",
            "nvidia-cublas-cu12==12.5.3.2\n",
            "nvidia-cuda-cupti-cu12==12.5.82\n",
            "nvidia-cuda-nvcc-cu12==12.5.82\n",
            "nvidia-cuda-nvrtc-cu12==12.5.82\n",
            "nvidia-cuda-runtime-cu12==12.5.82\n",
            "nvidia-cudnn-cu12==9.3.0.75\n",
            "nvidia-cufft-cu12==11.2.3.61\n",
            "nvidia-curand-cu12==10.3.6.82\n",
            "nvidia-cusolver-cu12==11.6.3.83\n",
            "nvidia-cusparse-cu12==12.5.1.3\n",
            "nvidia-cusparselt-cu12==0.6.2\n",
            "nvidia-ml-py==12.575.51\n",
            "nvidia-nccl-cu12==2.21.5\n",
            "nvidia-nvcomp-cu12==4.2.0.11\n",
            "nvidia-nvjitlink-cu12==12.5.82\n",
            "nvidia-nvtx-cu12==12.4.127\n",
            "nvtx==0.2.11\n",
            "nx-cugraph-cu12 @ https://pypi.nvidia.com/nx-cugraph-cu12/nx_cugraph_cu12-25.2.0-py3-none-any.whl\n",
            "oauth2client==4.1.3\n",
            "oauthlib==3.2.2\n",
            "omegaconf==2.3.0\n",
            "openai==1.78.1\n",
            "opencv-contrib-python==4.11.0.86\n",
            "opencv-python==4.11.0.86\n",
            "opencv-python-headless==4.11.0.86\n",
            "openpyxl==3.1.5\n",
            "opt_einsum==3.4.0\n",
            "optax==0.2.4\n",
            "optree==0.15.0\n",
            "orbax-checkpoint==0.11.13\n",
            "orjson==3.10.18\n",
            "osqp==1.0.4\n",
            "packaging==24.2\n",
            "pandas==2.2.2\n",
            "pandas-datareader==0.10.0\n",
            "pandas-gbq==0.28.1\n",
            "pandas-stubs==2.2.2.240909\n",
            "pandocfilters==1.5.1\n",
            "panel==1.6.3\n",
            "param==2.2.0\n",
            "parso==0.8.4\n",
            "parsy==2.1\n",
            "partd==1.4.2\n",
            "pathlib==1.0.1\n",
            "patsy==1.0.1\n",
            "peewee==3.18.1\n",
            "peft==0.15.2\n",
            "pexpect==4.9.0\n",
            "pickleshare==0.7.5\n",
            "pillow==11.2.1\n",
            "platformdirs==4.3.8\n",
            "plotly==5.24.1\n",
            "plotnine==0.14.5\n",
            "pluggy==1.5.0\n",
            "ply==3.11\n",
            "polars==1.21.0\n",
            "pooch==1.8.2\n",
            "portpicker==1.5.2\n",
            "preshed==3.0.9\n",
            "prettytable==3.16.0\n",
            "proglog==0.1.12\n",
            "progressbar2==4.5.0\n",
            "prometheus_client==0.21.1\n",
            "promise==2.3\n",
            "prompt_toolkit==3.0.51\n",
            "propcache==0.3.1\n",
            "prophet==1.1.6\n",
            "proto-plus==1.26.1\n",
            "protobuf==5.29.4\n",
            "psutil==5.9.5\n",
            "psycopg2==2.9.10\n",
            "ptyprocess==0.7.0\n",
            "py-cpuinfo==9.0.0\n",
            "py4j==0.10.9.7\n",
            "pyarrow==18.1.0\n",
            "pyasn1==0.6.1\n",
            "pyasn1_modules==0.4.2\n",
            "pycairo==1.28.0\n",
            "pycocotools==2.0.8\n",
            "pycparser==2.22\n",
            "pycryptodomex==3.22.0\n",
            "pydantic==2.11.4\n",
            "pydantic_core==2.33.2\n",
            "pydata-google-auth==1.9.1\n",
            "pydot==3.0.4\n",
            "pydotplus==2.0.2\n",
            "PyDrive==1.3.1\n",
            "PyDrive2==1.21.3\n",
            "pyerfa==2.0.1.5\n",
            "pygame==2.6.1\n",
            "pygit2==1.18.0\n",
            "Pygments==2.19.1\n",
            "PyGObject==3.42.0\n",
            "PyJWT==2.10.1\n",
            "pylibcudf-cu12 @ https://pypi.nvidia.com/pylibcudf-cu12/pylibcudf_cu12-25.2.1-cp311-cp311-manylinux_2_24_x86_64.manylinux_2_28_x86_64.whl\n",
            "pylibcugraph-cu12==25.2.0\n",
            "pylibraft-cu12==25.2.0\n",
            "pymc==5.22.0\n",
            "pymystem3==0.2.0\n",
            "pynndescent==0.5.13\n",
            "pynvjitlink-cu12==0.6.0\n",
            "pynvml==12.0.0\n",
            "pyogrio==0.11.0\n",
            "pyomo==6.9.2\n",
            "PyOpenGL==3.1.9\n",
            "pyOpenSSL==24.2.1\n",
            "pyparsing==3.2.3\n",
            "pyperclip==1.9.0\n",
            "pyproj==3.7.1\n",
            "pyproject_hooks==1.2.0\n",
            "pyshp==2.3.1\n",
            "PySocks==1.7.1\n",
            "pyspark==3.5.1\n",
            "pytensor==2.30.3\n",
            "pytest==8.3.5\n",
            "python-apt==0.0.0\n",
            "python-box==7.3.2\n",
            "python-dateutil==2.9.0.post0\n",
            "python-louvain==0.16\n",
            "python-slugify==8.0.4\n",
            "python-snappy==0.7.3\n",
            "python-utils==3.9.1\n",
            "pytz==2025.2\n",
            "pyviz_comms==3.0.4\n",
            "PyWavelets==1.8.0\n",
            "PyYAML==6.0.2\n",
            "pyzmq==24.0.1\n",
            "raft-dask-cu12==25.2.0\n",
            "rapids-dask-dependency==25.2.0\n",
            "ratelim==0.1.6\n",
            "referencing==0.36.2\n",
            "regex==2024.11.6\n",
            "requests==2.32.3\n",
            "requests-oauthlib==2.0.0\n",
            "requests-toolbelt==1.0.0\n",
            "requirements-parser==0.9.0\n",
            "rich==13.9.4\n",
            "rmm-cu12==25.2.0\n",
            "roman-numerals-py==3.1.0\n",
            "rpds-py==0.24.0\n",
            "rpy2==3.5.17\n",
            "rsa==4.9.1\n",
            "safetensors==0.5.3\n",
            "scikit-image==0.25.2\n",
            "scikit-learn==1.6.1\n",
            "scipy==1.15.3\n",
            "scooby==0.10.1\n",
            "scs==3.2.7.post2\n",
            "seaborn==0.13.2\n",
            "SecretStorage==3.3.3\n",
            "Send2Trash==1.8.3\n",
            "sentence-transformers==4.1.0\n",
            "sentencepiece==0.2.0\n",
            "sentry-sdk==2.28.0\n",
            "setproctitle==1.3.6\n",
            "shap==0.47.2\n",
            "shapely==2.1.0\n",
            "shellingham==1.5.4\n",
            "simple-parsing==0.1.7\n",
            "simplejson==3.20.1\n",
            "simsimd==6.2.1\n",
            "six==1.17.0\n",
            "sklearn-compat==0.1.3\n",
            "sklearn-pandas==2.2.0\n",
            "slicer==0.0.8\n",
            "smart-open==7.1.0\n",
            "smmap==5.0.2\n",
            "sniffio==1.3.1\n",
            "snowballstemmer==3.0.1\n",
            "sortedcontainers==2.4.0\n",
            "soundfile==0.13.1\n",
            "soupsieve==2.7\n",
            "soxr==0.5.0.post1\n",
            "spacy==3.8.5\n",
            "spacy-legacy==3.0.12\n",
            "spacy-loggers==1.0.5\n",
            "spanner-graph-notebook==1.1.6\n",
            "Sphinx==8.2.3\n",
            "sphinxcontrib-applehelp==2.0.0\n",
            "sphinxcontrib-devhelp==2.0.0\n",
            "sphinxcontrib-htmlhelp==2.1.0\n",
            "sphinxcontrib-jsmath==1.0.1\n",
            "sphinxcontrib-qthelp==2.0.0\n",
            "sphinxcontrib-serializinghtml==2.0.0\n",
            "SQLAlchemy==2.0.40\n",
            "sqlglot==25.20.2\n",
            "sqlparse==0.5.3\n",
            "srsly==2.5.1\n",
            "stanio==0.5.1\n",
            "statsmodels==0.14.4\n",
            "stringzilla==3.12.5\n",
            "stumpy==1.13.0\n",
            "sympy==1.13.1\n",
            "tables==3.10.2\n",
            "tabulate==0.9.0\n",
            "tbb==2022.1.0\n",
            "tblib==3.1.0\n",
            "tcmlib==1.3.0\n",
            "tenacity==9.1.2\n",
            "tensorboard==2.18.0\n",
            "tensorboard-data-server==0.7.2\n",
            "tensorflow==2.18.0\n",
            "tensorflow-datasets==4.9.8\n",
            "tensorflow-hub==0.16.1\n",
            "tensorflow-io-gcs-filesystem==0.37.1\n",
            "tensorflow-metadata==1.17.1\n",
            "tensorflow-probability==0.25.0\n",
            "tensorflow-text==2.18.1\n",
            "tensorflow_decision_forests==1.11.0\n",
            "tensorstore==0.1.74\n",
            "termcolor==3.1.0\n",
            "terminado==0.18.1\n",
            "text-unidecode==1.3\n",
            "textblob==0.19.0\n",
            "tf-slim==1.1.0\n",
            "tf_keras==2.18.0\n",
            "thinc==8.3.6\n",
            "threadpoolctl==3.6.0\n",
            "tifffile==2025.5.10\n",
            "tiktoken==0.9.0\n",
            "timm==1.0.15\n",
            "tinycss2==1.4.0\n",
            "tokenizers==0.21.1\n",
            "toml==0.10.2\n",
            "toolz==0.12.1\n",
            "torch @ https://download.pytorch.org/whl/cu124/torch-2.6.0%2Bcu124-cp311-cp311-linux_x86_64.whl\n",
            "torchao==0.10.0\n",
            "torchaudio @ https://download.pytorch.org/whl/cu124/torchaudio-2.6.0%2Bcu124-cp311-cp311-linux_x86_64.whl\n",
            "torchdata==0.11.0\n",
            "torchsummary==1.5.1\n",
            "torchtune==0.6.1\n",
            "torchvision @ https://download.pytorch.org/whl/cu124/torchvision-0.21.0%2Bcu124-cp311-cp311-linux_x86_64.whl\n",
            "tornado==6.4.2\n",
            "tqdm==4.67.1\n",
            "traitlets==5.7.1\n",
            "traittypes==0.2.1\n",
            "transformers==4.51.3\n",
            "treelite==4.4.1\n",
            "treescope==0.1.9\n",
            "triton==3.2.0\n",
            "tsfresh==0.21.0\n",
            "tweepy==4.15.0\n",
            "typeguard==4.4.2\n",
            "typer==0.15.3\n",
            "types-pytz==2025.2.0.20250326\n",
            "types-setuptools==80.4.0.20250511\n",
            "typing-inspection==0.4.0\n",
            "typing_extensions==4.13.2\n",
            "tzdata==2025.2\n",
            "tzlocal==5.3.1\n",
            "uc-micro-py==1.0.3\n",
            "ucx-py-cu12==0.42.0\n",
            "ucxx-cu12==0.42.0\n",
            "umap-learn==0.5.7\n",
            "umf==0.10.0\n",
            "uritemplate==4.1.1\n",
            "urllib3==2.4.0\n",
            "vega-datasets==0.9.0\n",
            "wadllib==1.3.6\n",
            "wandb==0.19.11\n",
            "wasabi==1.1.3\n",
            "wcwidth==0.2.13\n",
            "weasel==0.4.1\n",
            "webcolors==24.11.1\n",
            "webencodings==0.5.1\n",
            "websocket-client==1.8.0\n",
            "websockets==15.0.1\n",
            "Werkzeug==3.1.3\n",
            "widgetsnbextension==3.6.10\n",
            "wordcloud==1.9.4\n",
            "wrapt==1.17.2\n",
            "wurlitzer==3.1.1\n",
            "xarray==2025.3.1\n",
            "xarray-einstats==0.8.0\n",
            "xgboost==2.1.4\n",
            "xlrd==2.0.1\n",
            "xxhash==3.5.0\n",
            "xyzservices==2025.4.0\n",
            "yarl==1.20.0\n",
            "ydf==0.11.0\n",
            "yellowbrick==1.5\n",
            "yfinance==0.2.61\n",
            "zict==3.0.0\n",
            "zipp==3.21.0\n",
            "zstandard==0.23.0\n"
          ]
        }
      ]
    }
  ]
}